{
 "cells": [
  {
   "cell_type": "markdown",
   "metadata": {},
   "source": [
    "# Logistic Regression from Scratch"
   ]
  },
  {
   "cell_type": "code",
   "execution_count": 1,
   "metadata": {},
   "outputs": [],
   "source": [
    "import numpy as np\n",
    "import matplotlib.pyplot as plt\n",
    "from scipy.special import expit\n",
    "from scipy.optimize import fmin\n",
    "import pandas as pd"
   ]
  },
  {
   "cell_type": "code",
   "execution_count": 2,
   "metadata": {},
   "outputs": [],
   "source": [
    "class LogisticRegression(object):\n",
    "    def __init__(self, alpha=0.01, maxiters=5000, weights=None):\n",
    "        self.alpha = alpha\n",
    "        self.maxiters = maxiters\n",
    "        self.weights = weights\n",
    "        self.m = None\n",
    "        self.predictions = np.array([])\n",
    "        \n",
    "    def sigmoid(self, z):\n",
    "        return expit(z)\n",
    "    \n",
    "    #Cost Function\n",
    "    def cost_function(self, weights, x, y):\n",
    "        self.m = len(y)\n",
    "        y = y.reshape((-1,1))\n",
    "        self.weights = weights\n",
    "        term1 = -np.dot(y.T, np.log(self.sigmoid(np.dot(x, self.weights))))\n",
    "        term2 = -np.dot((1-y).T, np.log(self.sigmoid(1 - np.dot(x, self.weights))))\n",
    "        cost = np.sum(term1 + term2) / self.m\n",
    "        return cost\n",
    "    \n",
    "    \"\"\"\n",
    "    Instead of using Gradient Descent I used scipy.optimize module's fmin method\n",
    "    to minize the cost function. It is easy to use and computes very fast.\n",
    "    \n",
    "    \"\"\"\n",
    "    def optimize_weights(self, weights, x, y):\n",
    "        result = fmin(func=self.cost_function, x0=weights, args=(x, y), maxiter=self.maxiters, full_output=True)\n",
    "        self.weights = result[0]\n",
    "        return result[0], result[1]\n",
    "    \n",
    "    def predict(self, x): # Predicts the labels\n",
    "        return self.sigmoid(np.dot(x, self.weights[0]))\n",
    "    \n",
    "    def fit(self, x, y): #Trains the Model\n",
    "        self.x = x\n",
    "        self.y = y\n",
    "        self.weights = np.random.random((x.shape[1], 1))\n",
    "        self.weights = self.optimize_weights(self.weights, x, y)\n",
    "    \n",
    "    \"\"\"\n",
    "    Visualizing the data. This code cannot visualize model with more than\n",
    "    2 features. It is difficult to visualize higher dimensional models in \n",
    "    matplotlib\n",
    "    \n",
    "    \"\"\" \n",
    "    def visualize(self):\n",
    "        if self.x.shape[-1]-1 > 2:\n",
    "            print('Cannot Visualize data with more than 2 features :(')\n",
    "            return None\n",
    "        \n",
    "        x11 = self.x[y==0][:, 1]\n",
    "        x12 = self.x[y==1][:, 1]\n",
    "        y11 = self.x[y==0][:, 2]\n",
    "        y12 = self.x[y==1][:, 2]\n",
    "        wt = self.weights[0].ravel()\n",
    "        lpx = np.array([min(self.x[:, 1]), max(self.x[:, 1])])\n",
    "        lpy = -(wt[1]*lpx + wt[0]) / wt[2]\n",
    "        plt.scatter(x11, y11, c='green', s=50, alpha=.5, label='Yes')\n",
    "        plt.scatter(x12, y12, c='red', s=50, alpha=.5, label='No')\n",
    "        plt.plot(lpx, lpy, color='k', label='Predictions')\n",
    "        plt.xlabel('X-1')\n",
    "        plt.ylabel('X-2')\n",
    "        plt.legend()\n",
    "        plt.grid(True)"
   ]
  },
  {
   "cell_type": "code",
   "execution_count": 3,
   "metadata": {},
   "outputs": [],
   "source": [
    "data = pd.read_csv('ex2data1.txt', header=None)"
   ]
  },
  {
   "cell_type": "code",
   "execution_count": 4,
   "metadata": {},
   "outputs": [],
   "source": [
    "x = data.iloc[:, [0, 1]].values\n",
    "y = data.iloc[:, -1].values\n",
    "x = np.insert(x, 0, 1, axis=1)"
   ]
  },
  {
   "cell_type": "code",
   "execution_count": 5,
   "metadata": {},
   "outputs": [],
   "source": [
    "clf = LogisticRegression(maxiters=4000)"
   ]
  },
  {
   "cell_type": "code",
   "execution_count": 6,
   "metadata": {},
   "outputs": [
    {
     "name": "stdout",
     "output_type": "stream",
     "text": [
      "Optimization terminated successfully.\n",
      "         Current function value: 0.145225\n",
      "         Iterations: 150\n",
      "         Function evaluations: 276\n"
     ]
    }
   ],
   "source": [
    "clf.fit(x, y)"
   ]
  },
  {
   "cell_type": "code",
   "execution_count": 7,
   "metadata": {},
   "outputs": [],
   "source": [
    "ypred=np.where(clf.predict(x)>=0.5, 1, 0)"
   ]
  },
  {
   "cell_type": "code",
   "execution_count": 8,
   "metadata": {},
   "outputs": [
    {
     "data": {
      "text/plain": [
       "array([0, 0, 0, 1, 1, 0, 1, 1, 1, 1, 1, 0, 1, 1, 0, 1, 1, 0, 1, 1, 0, 1,\n",
       "       0, 0, 1, 1, 1, 1, 0, 0, 1, 1, 0, 1, 0, 0, 1, 1, 0, 0, 1, 0, 1, 1,\n",
       "       0, 0, 1, 1, 1, 1, 1, 1, 1, 0, 0, 0, 1, 1, 1, 1, 1, 0, 0, 0, 0, 0,\n",
       "       1, 0, 1, 1, 0, 1, 1, 1, 1, 1, 1, 1, 0, 1, 1, 1, 1, 0, 1, 1, 0, 1,\n",
       "       1, 0, 1, 1, 0, 1, 1, 1, 1, 1, 0, 1])"
      ]
     },
     "execution_count": 8,
     "metadata": {},
     "output_type": "execute_result"
    }
   ],
   "source": [
    "ypred"
   ]
  },
  {
   "cell_type": "code",
   "execution_count": 9,
   "metadata": {},
   "outputs": [
    {
     "data": {
      "text/plain": [
       "array([0, 0, 0, 1, 1, 0, 1, 1, 1, 1, 0, 0, 1, 1, 0, 1, 1, 0, 1, 1, 0, 1,\n",
       "       0, 0, 1, 1, 1, 0, 0, 0, 1, 1, 0, 1, 0, 0, 0, 1, 0, 0, 1, 0, 1, 0,\n",
       "       0, 0, 1, 1, 1, 1, 1, 1, 1, 0, 0, 0, 1, 0, 1, 1, 1, 0, 0, 0, 0, 0,\n",
       "       1, 0, 1, 1, 0, 1, 1, 1, 1, 1, 1, 1, 0, 0, 1, 1, 1, 1, 1, 1, 0, 1,\n",
       "       1, 0, 1, 1, 0, 1, 1, 1, 1, 1, 1, 1], dtype=int64)"
      ]
     },
     "execution_count": 9,
     "metadata": {},
     "output_type": "execute_result"
    }
   ],
   "source": [
    "y"
   ]
  },
  {
   "cell_type": "code",
   "execution_count": 10,
   "metadata": {},
   "outputs": [
    {
     "data": {
      "text/plain": [
       "(array([-21.56147891,   0.17976874,   0.17697822]), 0.14522460200660842)"
      ]
     },
     "execution_count": 10,
     "metadata": {},
     "output_type": "execute_result"
    }
   ],
   "source": [
    "clf.weights"
   ]
  },
  {
   "cell_type": "code",
   "execution_count": 12,
   "metadata": {},
   "outputs": [
    {
     "data": {
      "image/png": "[encoded data removed]",
      "text/plain": [
       "<Figure size 432x288 with 1 Axes>"
      ]
     },
     "metadata": {
      "needs_background": "light"
     },
     "output_type": "display_data"
    }
   ],
   "source": [
    "clf.visualize()\n",
    "# Above Prediction line is No region\n",
    "#Below Prediction line is Yes region"
   ]
  },
  {
   "cell_type": "code",
   "execution_count": null,
   "metadata": {},
   "outputs": [],
   "source": []
  }
 ],
 "metadata": {
  "kernelspec": {
   "display_name": "Python 3",
   "language": "python",
   "name": "python3"
  },
  "language_info": {
   "codemirror_mode": {
    "name": "ipython",
    "version": 3
   },
   "file_extension": ".py",
   "mimetype": "text/x-python",
   "name": "python",
   "nbconvert_exporter": "python",
   "pygments_lexer": "ipython3",
   "version": "3.7.6"
  }
 },
 "nbformat": 4,
 "nbformat_minor": 4
}
